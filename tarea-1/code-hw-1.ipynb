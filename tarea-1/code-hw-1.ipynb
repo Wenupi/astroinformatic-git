{
 "cells": [
  {
   "cell_type": "code",
   "execution_count": 1,
   "metadata": {},
   "outputs": [
    {
     "name": "stderr",
     "output_type": "stream",
     "text": [
      "Matplotlib is building the font cache; this may take a moment.\n"
     ]
    }
   ],
   "source": [
    "import numpy as np\n",
    "import matplotlib.pyplot as plt\n",
    "import pandas as pd\n",
    "from scipy.integrate import quad\n",
    "from astropy import units as u\n",
    "\n",
    "plt.rcParams['axes.grid'] = False\n",
    "plt.rcParams['grid.alpha'] = 1\n",
    "plt.rcParams['grid.color'] = \"#cccccc\"\n",
    "plt.rcParams.update({\"font.size\": 11, \"font.family\": \"serif\"})\n"
   ]
  },
  {
   "cell_type": "code",
   "execution_count": 2,
   "metadata": {},
   "outputs": [
    {
     "data": {
      "text/html": [
       "<div>\n",
       "<style scoped>\n",
       "    .dataframe tbody tr th:only-of-type {\n",
       "        vertical-align: middle;\n",
       "    }\n",
       "\n",
       "    .dataframe tbody tr th {\n",
       "        vertical-align: top;\n",
       "    }\n",
       "\n",
       "    .dataframe thead th {\n",
       "        text-align: right;\n",
       "    }\n",
       "</style>\n",
       "<table border=\"1\" class=\"dataframe\">\n",
       "  <thead>\n",
       "    <tr style=\"text-align: right;\">\n",
       "      <th></th>\n",
       "      <th>redshift</th>\n",
       "      <th>dist_mod</th>\n",
       "      <th>err_dist_mod</th>\n",
       "    </tr>\n",
       "  </thead>\n",
       "  <tbody>\n",
       "    <tr>\n",
       "      <th>0</th>\n",
       "      <td>0.019200</td>\n",
       "      <td>34.491562</td>\n",
       "      <td>0.197092</td>\n",
       "    </tr>\n",
       "    <tr>\n",
       "      <th>1</th>\n",
       "      <td>0.033500</td>\n",
       "      <td>35.973833</td>\n",
       "      <td>0.170490</td>\n",
       "    </tr>\n",
       "    <tr>\n",
       "      <th>2</th>\n",
       "      <td>0.045295</td>\n",
       "      <td>36.640272</td>\n",
       "      <td>0.164981</td>\n",
       "    </tr>\n",
       "    <tr>\n",
       "      <th>3</th>\n",
       "      <td>0.380417</td>\n",
       "      <td>41.272341</td>\n",
       "      <td>0.198558</td>\n",
       "    </tr>\n",
       "    <tr>\n",
       "      <th>4</th>\n",
       "      <td>0.495000</td>\n",
       "      <td>42.118908</td>\n",
       "      <td>0.443653</td>\n",
       "    </tr>\n",
       "  </tbody>\n",
       "</table>\n",
       "</div>"
      ],
      "text/plain": [
       "   redshift   dist_mod  err_dist_mod\n",
       "0  0.019200  34.491562      0.197092\n",
       "1  0.033500  35.973833      0.170490\n",
       "2  0.045295  36.640272      0.164981\n",
       "3  0.380417  41.272341      0.198558\n",
       "4  0.495000  42.118908      0.443653"
      ]
     },
     "execution_count": 2,
     "metadata": {},
     "output_type": "execute_result"
    }
   ],
   "source": [
    "df_P1 = pd.read_csv('sn-data.csv')\n",
    "\n",
    "redshift = np.array(df_P1.iloc[:, 0])\n",
    "dist_mod = np.array(df_P1.iloc[:, 1])\n",
    "err_dist_mod = np.array(df_P1.iloc[:, 2])\n",
    "\n",
    "df_P1.head()"
   ]
  },
  {
   "cell_type": "code",
   "execution_count": 3,
   "metadata": {},
   "outputs": [
    {
     "name": "stderr",
     "output_type": "stream",
     "text": [
      "C:\\Users\\javie\\AppData\\Local\\Temp/ipykernel_6816/3239347858.py:6: UserWarning: Matplotlib is currently using module://matplotlib_inline.backend_inline, which is a non-GUI backend, so cannot show the figure.\n",
      "  fig1.show()\n"
     ]
    },
    {
     "data": {
      "image/png": "[encoded data removed]",
      "text/plain": [
       "<Figure size 504x360 with 1 Axes>"
      ]
     },
     "metadata": {
      "needs_background": "light"
     },
     "output_type": "display_data"
    }
   ],
   "source": [
    "fig1, ax1 = plt.subplots(figsize=(7, 5))\n",
    "ax1.scatter(redshift, dist_mod)\n",
    "ax1.set_xlabel('Redshift')\n",
    "ax1.set_ylabel('Distance Modulus')\n",
    "ax1.set_title('SN and universe expansion')\n",
    "fig1.show()"
   ]
  },
  {
   "cell_type": "code",
   "execution_count": 8,
   "metadata": {},
   "outputs": [],
   "source": [
    "Omega_m = 0.27\n",
    "Omega_lambda = 0.73\n",
    "c = 300000*u.km/u.second  # km/s\n",
    "H_0 = 71/(10**6)*u.kilometer/u.second/u.parsec\n",
    "#H_0 = (H_0.to(1/u.second)).value\n",
    "rate = ((c/H_0).to(u.parsec)).value\n",
    "def mu_Peebles(z):\n",
    "    def integral_fn(x):\n",
    "        return 1/((Omega_m*(1 + x)**3 + Omega_lambda)**0.5)\n",
    "    \n",
    "    integral = quad(integral_fn, 0, z)[0]\n",
    "    #print(integral)\n",
    "    return -5*np.log10(10) + 5*np.log10((1 + z)*rate*integral)\n",
    "\n",
    "vmu_Hubble = np.vectorize(mu_Peebles)\n",
    "\n",
    "mu_model = vmu_Hubble(redshift)"
   ]
  },
  {
   "cell_type": "code",
   "execution_count": 10,
   "metadata": {},
   "outputs": [
    {
     "name": "stderr",
     "output_type": "stream",
     "text": [
      "C:\\Users\\javie\\AppData\\Local\\Temp/ipykernel_6816/1200806295.py:7: UserWarning: Matplotlib is currently using module://matplotlib_inline.backend_inline, which is a non-GUI backend, so cannot show the figure.\n",
      "  fig2.show()\n"
     ]
    },
    {
     "data": {
      "image/png": "[encoded data removed]",
      "text/plain": [
       "<Figure size 504x360 with 1 Axes>"
      ]
     },
     "metadata": {
      "needs_background": "light"
     },
     "output_type": "display_data"
    }
   ],
   "source": [
    "fig2, ax2 = plt.subplots(figsize=(7, 5))\n",
    "ax2.scatter(redshift, mu_model)\n",
    "ax2.scatter(redshift, dist_mod)\n",
    "ax2.set_xlabel('Redshift')\n",
    "ax2.set_ylabel('Distance Modulus')\n",
    "ax2.set_title('SN and universe expansion')\n",
    "fig2.show()"
   ]
  },
  {
   "cell_type": "code",
   "execution_count": null,
   "metadata": {},
   "outputs": [],
   "source": []
  }
 ],
 "metadata": {
  "interpreter": {
   "hash": "ef9976fb54af8ee8df79066cc870653b1489938a47ac38ebc1c5562e362a13ad"
  },
  "kernelspec": {
   "display_name": "Python 3.8.8 ('base')",
   "language": "python",
   "name": "python3"
  },
  "language_info": {
   "codemirror_mode": {
    "name": "ipython",
    "version": 3
   },
   "file_extension": ".py",
   "mimetype": "text/x-python",
   "name": "python",
   "nbconvert_exporter": "python",
   "pygments_lexer": "ipython3",
   "version": "3.9.7"
  },
  "orig_nbformat": 4
 },
 "nbformat": 4,
 "nbformat_minor": 2
}
